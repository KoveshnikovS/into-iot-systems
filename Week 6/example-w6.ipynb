{
  "cells": [
    {
      "cell_type": "markdown",
      "metadata": {
        "collapsed": true
      },
      "source": [
        "# BL40A2010 Introduction to IoT-Based Systems\n",
        "\n",
        "## Example for HW 6, 12.10.2018\n",
        "\n",
        "### Author: Pedro Nardelli"
      ]
    },
    {
      "cell_type": "markdown",
      "metadata": {},
      "source": [
        "**(1) Consider the game whose payoff table is presented below. What is the relation between the payoffs values $x$, $y$, $w$ and $z$ so that the game can be classified as *Dove and Hawk*?**\n",
        "\n",
        "|                | $B$ aggressive  | $B$ not-aggressive     |\n",
        "|----------------|:---------------:|--------------:|\n",
        "| $A$ agreessive |  $A \\rightarrow x$   | $A \\rightarrow w$  |\n",
        "|                |  $B \\rightarrow x$   | $B\\rightarrow y$  |\n",
        "|                |                 |               |\n",
        "| $A$ not-aggressive |  $A\\rightarrow y$      | $A\\rightarrow z$  |\n",
        "|                |  $B\\rightarrow w$   | $B\\rightarrow z$  |\n",
        "\n",
        "\n",
        "**Verify the analytical results with numerical examples using [nashpy](https://nashpy.readthedocs.io/en/stable/index.html).**"
      ]
    },
    {
      "cell_type": "markdown",
      "metadata": {
        "trusted": false
      },
      "source": [
        "*Answer:* To be a Dove and Hawk game:\n",
        "- Both being aggressive is worse than both being timid, therefore:  x < z,\n",
        "- Being aggressive gives advantage in relation to be timid: w > y,\n",
        "- There shall be Nash equilibria when one player is aggressive and the other is timid. In this sense: w > z and  y > x . \n",
        "\n",
        "Putting all together:  x < y < z < w "
      ]
    },
    {
      "cell_type": "code",
      "execution_count": 2,
      "metadata": {
        "trusted": true
      },
      "outputs": [
        {
          "name": "stdout",
          "output_type": "stream",
          "text": [
            "Requirement already satisfied: nashpy in /home/nbuser/anaconda3_501/lib/python3.6/site-packages (0.0.19)\n",
            "Requirement already satisfied: numpy>=1.12.1 in /home/nbuser/anaconda3_501/lib/python3.6/site-packages (from nashpy) (1.16.2)\n",
            "Requirement already satisfied: scipy>=0.19.0 in /home/nbuser/anaconda3_501/lib/python3.6/site-packages (from nashpy) (1.1.0)\n",
            "\u001b[33mWARNING: You are using pip version 19.2.2, however version 19.2.3 is available.\n",
            "You should consider upgrading via the 'pip install --upgrade pip' command.\u001b[0m\n"
          ]
        }
      ],
      "source": [
        "#Verification with nashpy\n",
        "#Installing a missing library\n",
        "! pip install nashpy"
      ]
    },
    {
      "cell_type": "code",
      "execution_count": null,
      "metadata": {
        "trusted": true
      },
      "outputs": [],
      "source": [
        "import numpy as np\n",
        "import nashpy as nash"
      ]
    },
    {
      "cell_type": "markdown",
      "metadata": {},
      "source": [
        "### Test 1:  x < y < z < w \n",
        "\n",
        "\n",
        "|                | $B$ aggressive  | $B$ not-aggressive     |\n",
        "|----------------|:---------------:|--------------:|\n",
        "| $A$ agreessive |  $A \\rightarrow 0$   | $A \\rightarrow 5$  |\n",
        "|                |  $B \\rightarrow 0$   | $B\\rightarrow 1$  |\n",
        "|                |                 |               |\n",
        "| $A$ not-aggressive |  $A\\rightarrow 1$      | $A\\rightarrow 2$  |\n",
        "|                |  $B\\rightarrow 5$   | $B\\rightarrow 2$  |\n",
        "\n",
        "\n",
        "$$\n",
        "A =\n",
        "\\begin{pmatrix}\n",
        "    0 & 5\\\\\n",
        "    1 & 2\n",
        "\\end{pmatrix}\\qquad\n",
        "B =\n",
        "\\begin{pmatrix}\n",
        "    0 & 1\\\\\n",
        "    5 & 2\n",
        "\\end{pmatrix}\n",
        "$$"
      ]
    },
    {
      "cell_type": "code",
      "execution_count": null,
      "metadata": {
        "trusted": true
      },
      "outputs": [],
      "source": [
        "# Test 1 -> x=0, y=1, z=2 and w=3\n",
        "A = [[0, 5], [1, 2]]\n",
        "B = [[0, 1], [5, 2]]\n",
        "hawk_dove = nash.Game(A, B)\n",
        "hawk_dove"
      ]
    },
    {
      "cell_type": "code",
      "execution_count": 4,
      "metadata": {
        "trusted": true
      },
      "outputs": [
        {
          "data": {
            "text/plain": [
              "[(array([1., 0.]), array([0., 1.])),\n",
              " (array([0., 1.]), array([1., 0.])),\n",
              " (array([0.75, 0.25]), array([0.75, 0.25]))]"
            ]
          },
          "execution_count": 4,
          "metadata": {},
          "output_type": "execute_result"
        }
      ],
      "source": [
        "eqs = hawk_dove.support_enumeration()\n",
        "list(eqs)"
      ]
    },
    {
      "cell_type": "markdown",
      "metadata": {},
      "source": [
        "This output gives the *mixed strategies Nash equilibria.*\n",
        "\n",
        "- **First line:** Player A (first array) will be aggressive with probability $1$ and be timid with probability $0$; Player B (second array) will be aggressive with probability $0$ and be timid with probability $1$. \n",
        "- **Second line:** Player A (first array) will be aggressive with probability $0$ and be timid with probability $1$; Player B (second array) will be aggressive with probability $1$ and be timid with probability $0$. \n",
        "\n",
        "This satisfies the condition of being a Dove and Hawk game. Note that there is also a third Nash equilibrium, but a mixed strategy one.\n",
        "- **Third line:** Player A (first array) will be aggressive with probability $3/4$ and be timid with probability $1/4$; Player B (second array) will be aggressive with probability $3/4$ and be timid with probability $1/4$. Check it out by hand."
      ]
    },
    {
      "cell_type": "markdown",
      "metadata": {},
      "source": [
        "### Test 2: z > w\n",
        "\n",
        "\n",
        "|                | $B$ aggressive  | $B$ not-aggressive     |\n",
        "|----------------|:---------------:|--------------:|\n",
        "| $A$ agreessive |  $A \\rightarrow 0$   | $A \\rightarrow 2$  |\n",
        "|                |  $B \\rightarrow 0$   | $B\\rightarrow 1$  |\n",
        "|                |                 |               |\n",
        "| $A$ not-aggressive |  $A\\rightarrow 1$      | $A\\rightarrow 3$  |\n",
        "|                |  $B\\rightarrow 2$   | $B\\rightarrow 3$  |\n",
        "\n",
        "$$\n",
        "A =\n",
        "\\begin{pmatrix}\n",
        "    0 & 2\\\\\n",
        "    1 & 3\n",
        "\\end{pmatrix}\\qquad\n",
        "B =\n",
        "\\begin{pmatrix}\n",
        "    0 & 1\\\\\n",
        "    2 & 3\n",
        "\\end{pmatrix}\n",
        "$$"
      ]
    },
    {
      "cell_type": "code",
      "execution_count": 5,
      "metadata": {
        "trusted": true
      },
      "outputs": [
        {
          "data": {
            "text/plain": [
              "Bi matrix game with payoff matrices:\n",
              "\n",
              "Row player:\n",
              "[[0 2]\n",
              " [1 3]]\n",
              "\n",
              "Column player:\n",
              "[[0 1]\n",
              " [2 3]]"
            ]
          },
          "execution_count": 5,
          "metadata": {},
          "output_type": "execute_result"
        }
      ],
      "source": [
        "# Test 2 -> x=0, y=1, z=3 and w=2\n",
        "A = [[0, 2], [1, 3]]\n",
        "B = [[0, 1], [2, 3]]\n",
        "hawk_dove2 = nash.Game(A, B)\n",
        "hawk_dove2"
      ]
    },
    {
      "cell_type": "code",
      "execution_count": 6,
      "metadata": {
        "trusted": true
      },
      "outputs": [
        {
          "data": {
            "text/plain": [
              "[(array([0., 1.]), array([0., 1.]))]"
            ]
          },
          "execution_count": 6,
          "metadata": {},
          "output_type": "execute_result"
        }
      ],
      "source": [
        "eqs = hawk_dove2.support_enumeration()\n",
        "list(eqs)"
      ]
    },
    {
      "cell_type": "markdown",
      "metadata": {},
      "source": [
        "This indicates a unique Nash equilibrium (domiant strategy) of both being timid"
      ]
    },
    {
      "cell_type": "markdown",
      "metadata": {},
      "source": [
        "**(2) Justify why the game from the previous exercise is or is not a sound model when $A$ and $B$ are:**\n",
        "\n",
        "**1. Two countries developing defense policies.**\n",
        "\n",
        "\n",
        "**2. Competitive companies in the market discussing standardization.**\n",
        "\n",
        "\n",
        "**3. Two different autonomous IoT-based home energy management algorithms that are focus on energy efficiency.**\n",
        "\n",
        "\n",
        "**4. Two different autonomous IoT-based home energy management algorithms that are focus on profit maximization.**"
      ]
    },
    {
      "attachments": {},
      "cell_type": "markdown",
      "metadata": {},
      "source": [
        "Answer: Dove and Hawk game as a model.\n",
        "\n",
        "**1.** Yes. For example country A has an aggressive external policy to develop nuclear weapons. Country B may invade the country and cause a nuclear war (bad to all), or being passive (timid) and let the other country develop the weapon without cause war (A is in an advantageous situation and B cannot act without becoming worse off).\n",
        "\n",
        "**2.** Probably yes if there is a competition between two standards. It may be a good model if we consider: both losing by having two standards. An aggressive company (A) can push its preferable standard and the other (B) being timid; this case has advantages of having only one standard. Nevertheless, the \"good\" solution would be having the two companies agreeing in a standard without any imposing their positions (both timid).\n",
        "\n",
        "**3.** No since they can work in cooperation and have the same shared goal. The energy efficiency of house A does not affect the payoff of house B.\n",
        "\n",
        "**4.** Probably no. But it can also be yes if they are competing for the same resource and decisions of A and B may affect each other."
      ]
    }
  ],
  "metadata": {
    "kernelspec": {
      "display_name": "Python 3",
      "language": "python",
      "name": "python3"
    },
    "language_info": {
      "codemirror_mode": {
        "name": "ipython",
        "version": 3
      },
      "file_extension": ".py",
      "mimetype": "text/x-python",
      "name": "python",
      "nbconvert_exporter": "python",
      "pygments_lexer": "ipython3",
      "version": "3.10.6"
    },
    "vscode": {
      "interpreter": {
        "hash": "2ae7915851d74fe7399be5c49df080b19a7eb83a7316f9cd1f14531a53bd1ff3"
      }
    }
  },
  "nbformat": 4,
  "nbformat_minor": 2
}
