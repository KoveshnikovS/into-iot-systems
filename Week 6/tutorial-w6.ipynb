{
  "cells": [
    {
      "cell_type": "markdown",
      "metadata": {
        "collapsed": true
      },
      "source": [
        "# BL40A2010 Introduction to IoT-Based Systems\n",
        "\n",
        "## Tutorial 6: *Game theory and decision making*\n",
        "\n",
        "## Author: Pedro Nardelli"
      ]
    },
    {
      "cell_type": "markdown",
      "metadata": {},
      "source": [
        "### Installing a missing library [Nashpy](https://nashpy.readthedocs.io/en/stable/)\n",
        "\n",
        "[How to do it in Azure](https://notebooks.azure.com/help/jupyter-notebooks/package-installation/python)"
      ]
    },
    {
      "cell_type": "code",
      "execution_count": 1,
      "metadata": {
        "trusted": true
      },
      "outputs": [
        {
          "name": "stdout",
          "output_type": "stream",
          "text": [
            "Collecting nashpy\n",
            "  Downloading https://files.pythonhosted.org/packages/ad/a2/5d36744511640db1869029d2ab324b55f6eaaa2a51f75a87408a7e8000f4/nashpy-0.0.19.tar.gz\n",
            "Requirement already satisfied: numpy>=1.12.1 in /home/nbuser/anaconda3_501/lib/python3.6/site-packages (from nashpy) (1.16.2)\n",
            "Requirement already satisfied: scipy>=0.19.0 in /home/nbuser/anaconda3_501/lib/python3.6/site-packages (from nashpy) (1.1.0)\n",
            "Building wheels for collected packages: nashpy\n",
            "  Building wheel for nashpy (setup.py) ... \u001b[?25ldone\n",
            "\u001b[?25h  Created wheel for nashpy: filename=nashpy-0.0.19-cp36-none-any.whl size=11561 sha256=231707920a98e69899a1fe99975d564cbeb1cc6d7d7a2b88c03ecc21847c28a6\n",
            "  Stored in directory: /home/nbuser/.cache/pip/wheels/18/e9/56/2d04d01a6969d167f86d3afcb3d128c0b43d0d73ea471c835b\n",
            "Successfully built nashpy\n",
            "Installing collected packages: nashpy\n",
            "Successfully installed nashpy-0.0.19\n",
            "\u001b[33mWARNING: You are using pip version 19.2.2, however version 19.2.3 is available.\n",
            "You should consider upgrading via the 'pip install --upgrade pip' command.\u001b[0m\n"
          ]
        }
      ],
      "source": [
        "#Installing a missing library\n",
        "! pip install nashpy==0.0.21"
      ]
    },
    {
      "cell_type": "code",
      "execution_count": 15,
      "metadata": {
        "trusted": true
      },
      "outputs": [],
      "source": [
        "#Import libraries\n",
        "import matplotlib.pyplot as plt \n",
        "import numpy as np\n",
        "import nashpy as nash"
      ]
    },
    {
      "cell_type": "markdown",
      "metadata": {},
      "source": [
        "### This tutorial is an adaptation from Chapters [1](https://vknight.org/gt/chapters/01/),  [2](https://vknight.org/gt/chapters/02/) and  [3](https://vknight.org/gt/chapters/03/) from [Vincent  Knight](https://vknight.org/) course in Game Theory at Cardiff University. "
      ]
    },
    {
      "cell_type": "markdown",
      "metadata": {},
      "source": [
        "# Normal Form Games\n",
        "\n",
        "[Video](https://youtu.be/VDZ4I4IoFss?list=PLnC5h3PY-znxMsG0TRYGOyrnEO-QhVwLb)\n",
        "\n",
        "Game theory is the study of interactive decision making. Consider the following situation:\n",
        "\n",
        "> Two friends must decide what movie to watch at the cinema. Alice would like to watch a sport movie and Bob would like to watch a comedy. Importantly they would both rather spend their evening together then apart.\n",
        "\n",
        "To represent this mathematically we will associate **utilities** to the 4 possible outcomes:\n",
        "\n",
        "1. Alice watches a sport movie, Bob watches a comedy: Alice receives a utility of $1$ and Bob a utility of $1$.\n",
        "2. Alice watches a comedy, Bob watches a sport movice: Alice receives a utility of $0$ and Bob a utility of $0$.\n",
        "3. Alice and Bob both watch a sport movie: Alice receives a utility of $3$ and Bob a utility of $2$.\n",
        "4. Alice and Bob both watch a comedy: Alice receives a utility of $2$ and Bob a utility of $3$.\n",
        "\n",
        "This is referred to as the \"battle of the sexes\" and we will represent it using two matrices, $A$ will represent the utilities of Alice:\n",
        "\n",
        "$$\n",
        "A = \n",
        "\\begin{pmatrix}\n",
        "3 & 1\\\\\n",
        "0 & 2\n",
        "\\end{pmatrix}\n",
        "$$\n",
        "\n",
        "and matrix $B$ will represent the utilities of Bob:\n",
        "\n",
        "$$\n",
        "B = \n",
        "\\begin{pmatrix}\n",
        "2 & 1\\\\\n",
        "0 & 3\n",
        "\\end{pmatrix}\n",
        "$$\n",
        "\n",
        "We refer to **Alice as the row player** and **Bob as the column player**: \n",
        "\n",
        "- The row player chooses which row of the matrices the players will gain their utilities;\n",
        "- The column player chooses which column of the matrices the player will gain their utilities.\n",
        "\n",
        "Thus if the row player (Alice) chooses the first row (this corresponds to a sport movie) and the column player (Bob) chooses the second column (this corresponds to a comedy):\n",
        "\n",
        "- The row player receives a utility of $A_{12}=1$\n",
        "- The column player receives a utility of $B_{12}=1$\n",
        "\n",
        "This representation of the stategic interaction between Alice and Bob is called a **Normal Form Game**.\n",
        "\n",
        "We can use Python to represent these games, we will use the `nashpy` library to do so and we start by building our two matrices:"
      ]
    },
    {
      "cell_type": "code",
      "execution_count": 16,
      "metadata": {
        "trusted": true
      },
      "outputs": [],
      "source": [
        "A = [[3, 1], [0, 2]]\n",
        "B = [[2, 1], [0, 3]]"
      ]
    },
    {
      "cell_type": "code",
      "execution_count": 17,
      "metadata": {
        "trusted": true
      },
      "outputs": [
        {
          "data": {
            "text/plain": [
              "Bi matrix game with payoff matrices:\n",
              "\n",
              "Row player:\n",
              "[[3 1]\n",
              " [0 2]]\n",
              "\n",
              "Column player:\n",
              "[[2 1]\n",
              " [0 3]]"
            ]
          },
          "execution_count": 17,
          "metadata": {},
          "output_type": "execute_result"
        }
      ],
      "source": [
        "battle_of_the_sexes = nash.Game(A, B)\n",
        "battle_of_the_sexes"
      ]
    },
    {
      "cell_type": "markdown",
      "metadata": {},
      "source": [
        "## Hawk Dove game \n",
        "\n",
        "[Video](https://youtu.be/_7HtcsVB2uU?list=PLnC5h3PY-znxMsG0TRYGOyrnEO-QhVwLb)\n",
        "\n",
        "> Suppose two birds of prey must share a limited resource. The birds can act like a hawk or a dove. Hawks always fight over the resource to the point of exterminating a fellow hawk and/or take a majority of the resource from a dove. Two doves can share the resource.\n",
        "\n",
        "\n",
        "\n",
        "This corresponds to:\n",
        "\n",
        "$$\n",
        "A =\n",
        "\\begin{pmatrix}\n",
        "    0 & 3\\\\\n",
        "    1 & 2\n",
        "\\end{pmatrix}\\qquad\n",
        "B =\n",
        "\\begin{pmatrix}\n",
        "    0 & 1\\\\\n",
        "    3 & 2\n",
        "\\end{pmatrix}\n",
        "$$"
      ]
    },
    {
      "cell_type": "code",
      "execution_count": 18,
      "metadata": {
        "trusted": true
      },
      "outputs": [
        {
          "data": {
            "text/plain": [
              "Bi matrix game with payoff matrices:\n",
              "\n",
              "Row player:\n",
              "[[0 3]\n",
              " [1 2]]\n",
              "\n",
              "Column player:\n",
              "[[0 1]\n",
              " [3 2]]"
            ]
          },
          "execution_count": 18,
          "metadata": {},
          "output_type": "execute_result"
        }
      ],
      "source": [
        "A = [[0, 3], [1, 2]]\n",
        "B = [[0, 1], [3, 2]]\n",
        "hawk_dove = nash.Game(A, B)\n",
        "hawk_dove"
      ]
    },
    {
      "cell_type": "markdown",
      "metadata": {},
      "source": [
        "## Pigs\n",
        "\n",
        "[Video](https://youtu.be/ORGYJdqZkX0?list=PLnC5h3PY-znxMsG0TRYGOyrnEO-QhVwLb)\n",
        "\n",
        "> Consider two pigs. One dominant pig and one subservient pig. These pigs share a pen. There is a lever in the pen that delivers food but if either pig pushes the lever it will take them a little while to get to the food. If the dominant pig pushes the lever, the subservient pig has some time to eat most of the food before being pushed out of the way. If the subservient pig push the lever, the dominant pig will eat all the food. Finally if both pigs go to push the lever the subservient pig will be able to eat a third of the food.\n",
        "\n",
        "This corresponds to:\n",
        "\n",
        "$$\n",
        "A =\n",
        "\\begin{pmatrix}\n",
        "    4 & 2\\\\\n",
        "    6 & 0\n",
        "\\end{pmatrix}\\qquad\n",
        "B =\n",
        "\\begin{pmatrix}\n",
        "    2 & 3\\\\\n",
        "    -1 & 0\n",
        "\\end{pmatrix}\n",
        "$$"
      ]
    },
    {
      "cell_type": "code",
      "execution_count": 6,
      "metadata": {
        "trusted": true
      },
      "outputs": [
        {
          "data": {
            "text/plain": [
              "Bi matrix game with payoff matrices:\n",
              "\n",
              "Row player:\n",
              "[[4 2]\n",
              " [6 0]]\n",
              "\n",
              "Column player:\n",
              "[[ 2  3]\n",
              " [-1  0]]"
            ]
          },
          "execution_count": 6,
          "metadata": {},
          "output_type": "execute_result"
        }
      ],
      "source": [
        "A = [[4, 2], [6, 0]]\n",
        "B = [[2, 3], [-1, 0]]\n",
        "pigs = nash.Game(A, B)\n",
        "pigs"
      ]
    },
    {
      "cell_type": "markdown",
      "metadata": {},
      "source": [
        "## Matching pennies\n",
        "\n",
        "[Video](https://youtu.be/80ImlktaeeY?list=PLnC5h3PY-znxMsG0TRYGOyrnEO-QhVwLb)\n",
        "\n",
        ">Consider two players who can choose to display a coin either Heads facing up or Tails facing up. If both players show the same face then player 1 wins, if not then player 2 wins.\n",
        "\n",
        "This corresponds to:\n",
        "\n",
        "$$\n",
        "A =\n",
        "\\begin{pmatrix}\n",
        "    1 & -1\\\\\n",
        "    -1 & 1\n",
        "\\end{pmatrix}\\qquad\n",
        "B =\n",
        "\\begin{pmatrix}\n",
        "    -1 & 1\\\\\n",
        "    1 & -1\n",
        "\\end{pmatrix}\n",
        "$$"
      ]
    },
    {
      "cell_type": "code",
      "execution_count": 7,
      "metadata": {
        "trusted": true
      },
      "outputs": [
        {
          "data": {
            "text/plain": [
              "Zero sum game with payoff matrices:\n",
              "\n",
              "Row player:\n",
              "[[ 1 -1]\n",
              " [-1  1]]\n",
              "\n",
              "Column player:\n",
              "[[-1  1]\n",
              " [ 1 -1]]"
            ]
          },
          "execution_count": 7,
          "metadata": {},
          "output_type": "execute_result"
        }
      ],
      "source": [
        "A = [[1, -1], [-1, 1]]\n",
        "B = [[-1, 1], [1, -1]]\n",
        "matching_pennies = nash.Game(A, B)\n",
        "matching_pennies"
      ]
    },
    {
      "cell_type": "markdown",
      "metadata": {},
      "source": [
        "As indicated by `nashpy`, this is a `Zero sum game`: \n",
        "\n",
        "$$\n",
        "A + B = 0\n",
        "$$\n",
        "\n",
        "---\n",
        "\n",
        "## Definition of a zero sum game\n",
        "\n",
        "[Video](https://youtu.be/wUh1KFupLFI?list=PLnC5h3PY-znxMsG0TRYGOyrnEO-QhVwLb)\n",
        "\n",
        "A two player normal form game with payoff matrices $A, B$ is called **zero sum** iff:\n",
        "\n",
        "$$\n",
        "A = -B\n",
        "$$\n",
        "\n",
        "---\n",
        "\n",
        "To define a zero sum game using `nashpy` we can pass a single payoff matrix (it infers what the other will be):"
      ]
    },
    {
      "cell_type": "code",
      "execution_count": 8,
      "metadata": {
        "trusted": true
      },
      "outputs": [
        {
          "data": {
            "text/plain": [
              "Zero sum game with payoff matrices:\n",
              "\n",
              "Row player:\n",
              "[[ 1 -1]\n",
              " [-1  1]]\n",
              "\n",
              "Column player:\n",
              "[[-1  1]\n",
              " [ 1 -1]]"
            ]
          },
          "execution_count": 8,
          "metadata": {},
          "output_type": "execute_result"
        }
      ],
      "source": [
        "A = [[1, -1], [-1, 1]]\n",
        "matching_pennies = nash.Game(A)\n",
        "matching_pennies"
      ]
    },
    {
      "cell_type": "markdown",
      "metadata": {},
      "source": [
        "# Player strategies\n",
        "\n",
        "---\n",
        "\n",
        "## Definition of mixed strategies\n",
        "\n",
        "[Video](https://youtu.be/D_UID1t94UI?list=PLnC5h3PY-znxMsG0TRYGOyrnEO-QhVwLb)\n",
        "\n",
        "A mixed strategy for a player with strategy set $S$ is denoted by $\\sigma \\in [0,1]_{\\mathbb{R}}^{|S|}$ and corresponds to a probability distribution over the pure strategies of player $i$. So:\n",
        "\n",
        "$$\n",
        "\\sum_{i=1}^{|S|}\\sigma_i = 1\n",
        "$$\n",
        "\n",
        "---\n",
        "\n",
        "The expected score of a player can then be calculated as a measure over the probability distributions.\n",
        "\n",
        "---\n",
        "\n",
        "## Calculating utilities\n",
        "\n",
        "Considering a game $(A, B)\\in\\mathbb{{R^{m \\times n}}^2}$, if $\\sigma_r$ and $\\sigma_c$ are the mixed strategies for the row/column player (respectively). The utility to the row player is:\n",
        "\n",
        "$$\n",
        "u_r(\\sigma_r, \\sigma_c) = \\sum_{i=1}^m\\sum_{j=1}^nA_{ij}{\\sigma_r}_i{\\sigma_c}_j\n",
        "$$\n",
        "\n",
        "and the utility to the column player is:\n",
        "\n",
        "$$\n",
        "u_c(\\sigma_r, \\sigma_c) = \\sum_{i=1}^m\\sum_{j=1}^nB_{ij}{\\sigma_r}_i{\\sigma_c}_j\n",
        "$$\n",
        "\n",
        "This comes from:\n",
        "\n",
        "- The probability of being in a given cell of $A$ or $B$: ${\\sigma_r}_i{\\sigma_c}_j$\n",
        "- The value of the particular cell: $A_{ij}$ or $B_{ij}$\n",
        "\n",
        "---\n",
        "\n",
        "As an example consider the matching pennies game:\n",
        "\n",
        "$$\n",
        "A =\n",
        "\\begin{pmatrix}\n",
        "    1 & -1\\\\\n",
        "    -1 & 1\n",
        "\\end{pmatrix}\\qquad\n",
        "B =\n",
        "\\begin{pmatrix}\n",
        "    -1 & 1\\\\\n",
        "    1 & -1\n",
        "\\end{pmatrix}\n",
        "$$\n",
        "\n",
        "with the following mixed strategies:\n",
        "\n",
        "$$\n",
        "\\sigma_r = (.2, .8)\n",
        "\\qquad\n",
        "\\sigma_c = (.6, .4)\n",
        "$$\n",
        "\n",
        "We have:\n",
        "\n",
        "$$\n",
        "u_r(\\sigma_r, \\sigma_c) = 0.2 \\times 0.6 \\times 1 + 0.2 \\times 0.4 \\times (-1) + 0.8 \\times 0.6 \\times (-1) + 0.8 \\times 0.4 \\times 1=-0.12,\n",
        "$$\n",
        "\n",
        "$$\n",
        "u_c(\\sigma_r, \\sigma_c) = 0.2 \\times 0.6 \\times (-1) + 0.2 \\times 0.4 \\times 1 + 0.8 \\times 0.6 \\times 1 + 0.8 \\times 0.4 \\times (-1)=0.12.\n",
        "$$\n",
        "\n",
        "---\n",
        "\n",
        "## Linear algebraic calculation\n",
        "\n",
        "[Video](https://youtu.be/X-n0e58vfYw?list=PLnC5h3PY-znxMsG0TRYGOyrnEO-QhVwLb)\n",
        "\n",
        "Note that we can rearrange the expressions for the utilities:\n",
        "\n",
        "$$\n",
        "u_r(\\sigma_r, \\sigma_c) = \\sum_{i=1}^m{\\sigma_r}_i\\sum_{j=1}^nA_{ij}{\\sigma_c}_j\n",
        "$$\n",
        "\n",
        "$$\n",
        "u_c(\\sigma_r, \\sigma_c) = \\sum_{i=1}^m{\\sigma_r}_i\\sum_{j=1}^nB_{ij}{\\sigma_c}_j\n",
        "$$\n",
        "\n",
        "in turn this corresponds to the matrix vector product:\n",
        "\n",
        "$$\n",
        "u_r(\\sigma_r, \\sigma_c) = {\\sigma_r}A\\sigma_c^T\n",
        "$$\n",
        "\n",
        "$$\n",
        "u_c(\\sigma_r, \\sigma_c) = {\\sigma_r}B\\sigma_c^T\n",
        "$$\n",
        "\n",
        "We can use numpy to verify this calculation:"
      ]
    },
    {
      "cell_type": "code",
      "execution_count": 19,
      "metadata": {
        "trusted": true
      },
      "outputs": [
        {
          "data": {
            "text/plain": [
              "(-0.11999999999999998, 0.11999999999999998)"
            ]
          },
          "execution_count": 19,
          "metadata": {},
          "output_type": "execute_result"
        }
      ],
      "source": [
        "A = np.array([[1, -1], [-1, 1]])\n",
        "B = np.array([[-1, 1], [1, -1]])\n",
        "sigma_r = np.array([.2, .8])\n",
        "sigma_c = np.array([.6, .4])\n",
        "np.dot(sigma_r, np.dot(A, sigma_c)), np.dot(sigma_r, np.dot(B, sigma_c))"
      ]
    },
    {
      "cell_type": "markdown",
      "metadata": {},
      "source": [
        "We can use nashpy directly."
      ]
    },
    {
      "cell_type": "code",
      "execution_count": 20,
      "metadata": {
        "trusted": true
      },
      "outputs": [
        {
          "data": {
            "text/plain": [
              "array([-0.12,  0.12])"
            ]
          },
          "execution_count": 20,
          "metadata": {},
          "output_type": "execute_result"
        }
      ],
      "source": [
        "matching_pennies = nash.Game(A, B)\n",
        "matching_pennies[sigma_r, sigma_c]"
      ]
    },
    {
      "cell_type": "markdown",
      "metadata": {},
      "source": [
        "## Definition of a strictly dominated strategy\n",
        "\n",
        "[Video](https://youtu.be/KOSSfH_Z3F0?list=PLnC5h3PY-znxMsG0TRYGOyrnEO-QhVwLb)\n",
        "\n",
        "In a two player game $(A, B)\\in\\mathbb{{R^{m \\times n}}^2}$ a strategy $s$ is _dominated_ by strategy $\\bar s$ if for all strategies of the other player $t$:\n",
        "\n",
        "$$\n",
        "u(s, t) < u(\\bar s, t)\n",
        "$$\n",
        "\n",
        "---\n",
        "\n",
        "For example if we consider the Prisoner's Dilemma:\n",
        "\n",
        "$$\n",
        "A =\n",
        "\\begin{pmatrix}\n",
        "    3 & 0\\\\\n",
        "    5 & 1\n",
        "\\end{pmatrix}\\qquad\n",
        "B =\n",
        "\\begin{pmatrix}\n",
        "    3 & 5\\\\\n",
        "    0 & 1\n",
        "\\end{pmatrix}\n",
        "$$\n",
        "\n",
        "- we see that $A_{2j} > A_{1j}$ for all $j$, so we can say that the row players' first strategy is dominated by its second strategy.\n",
        "- we see that $B_{i2} > B_{i1}$ for all $i$, so we can say that the column players' first strategy is dominated by its second strategy.\n",
        "\n",
        "---\n",
        "\n",
        "## Definition of a weakly dominated strategy\n",
        "\n",
        "[Video](https://youtu.be/uJPcXIDDO8M?list=PLnC5h3PY-znxMsG0TRYGOyrnEO-QhVwLb)\n",
        "\n",
        "In a two player game $(A, B)\\in\\mathbb{{R^{m \\times n}}^2}$ a strategy $s$ is _weakly dominated_ by strategy $\\bar s$ if for all strategies of the other player $t$:\n",
        "\n",
        "$$\n",
        "u(s, t) \\leq u(\\bar s, t)\n",
        "$$\n",
        "\n",
        "**and there exists** a $t'$ such that:\n",
        "\n",
        "$$\n",
        "u(s, t') < u(\\bar s, t')\n",
        "$$\n",
        "\n",
        "---\n",
        "\n",
        "For example if we consider the modified version of the previous game:\n",
        "\n",
        "$$\n",
        "A =\n",
        "\\begin{pmatrix}\n",
        "    3 & 0\\\\\n",
        "    3 & 1\n",
        "\\end{pmatrix}\\qquad\n",
        "B =\n",
        "\\begin{pmatrix}\n",
        "    3 & 3\\\\\n",
        "    0 & 1\n",
        "\\end{pmatrix}\n",
        "$$\n",
        "\n",
        "- we see that $A_{2j} \\geq A_{1j}$ for all $j$ **and** $A_{22} > A_{12}$, so we can say that the row players' first strategy is weakly dominated by its second strategy.\n",
        "- we see that $B_{i2} \\geq B_{i1}$ for all $i$ **and** $B_{22} > B_{21}$, so we can say that the column players' first strategy is weakly dominated by its second strategy.\n",
        "\n",
        "We can use `numpy` to verify if a strategy is weakly/strictly dominated:"
      ]
    },
    {
      "cell_type": "code",
      "execution_count": 11,
      "metadata": {
        "trusted": true
      },
      "outputs": [],
      "source": [
        "A = np.array([[3, 0], [3, 1]])\n",
        "B = np.array([[3, 3], [0, 1]])"
      ]
    },
    {
      "cell_type": "code",
      "execution_count": 12,
      "metadata": {
        "trusted": true
      },
      "outputs": [
        {
          "data": {
            "text/plain": [
              "True"
            ]
          },
          "execution_count": 12,
          "metadata": {},
          "output_type": "execute_result"
        }
      ],
      "source": [
        "# Verify that first row is weakly dominated by second row\n",
        "all(A[0,:] <= A[1,:]) and any(A[0,:] < A[1,:])"
      ]
    },
    {
      "cell_type": "code",
      "execution_count": 13,
      "metadata": {
        "trusted": true
      },
      "outputs": [
        {
          "data": {
            "text/plain": [
              "True"
            ]
          },
          "execution_count": 13,
          "metadata": {},
          "output_type": "execute_result"
        }
      ],
      "source": [
        "# Verify that first column is weakly dominated by second column\n",
        "all(B[:,0] <= B[:,1]) and any(B[:,0] < B[:,1])"
      ]
    },
    {
      "cell_type": "markdown",
      "metadata": {},
      "source": [
        "## Definition  of common knowledge of rationality\n",
        "\n",
        "[Video](https://youtu.be/7FZAWCI_q60?list=PLnC5h3PY-znxMsG0TRYGOyrnEO-QhVwLb)\n",
        "\n",
        "An important aspect of Game Theory and the tool that we have in fact been using so far is to assume that players are rational. However we can (and need) to go further:\n",
        "\n",
        "- The players are rational;\n",
        "- The players all know that the other players are rational;\n",
        "- The players all know that the other players know that they are rationals;\n",
        "...\n",
        "\n",
        "\n",
        "This chain of assumptions is called Common Knowledge of Rationality (CKR). By applying the CKR assumption we can attempt to predict rational behaviour through the iterated elimination of weakly dominated strategies. This process is called **rationalisation**.\n",
        "\n",
        "Let us consider the following game:\n",
        "\n",
        "$$\n",
        "A =\n",
        "\\begin{pmatrix}\n",
        "    10 & 5 & 1\\\\\n",
        "    10 & 5 & 4\n",
        "\\end{pmatrix}\\qquad\n",
        "B =\n",
        "\\begin{pmatrix}\n",
        "    1 & 1 & -2\\\\\n",
        "    1 & 0 & 2\n",
        "\\end{pmatrix}\n",
        "$$\n",
        "\n",
        "We see that the rows players' first strategy is weakly dominated by its second."
      ]
    },
    {
      "cell_type": "code",
      "execution_count": 14,
      "metadata": {
        "trusted": true
      },
      "outputs": [
        {
          "data": {
            "text/plain": [
              "True"
            ]
          },
          "execution_count": 14,
          "metadata": {},
          "output_type": "execute_result"
        }
      ],
      "source": [
        "A = np.array([[10, 5, 1], [10, 5, 4]])\n",
        "B = np.array([[1, 1, -2], [1, 0, 2]])\n",
        "all(A[0,:] <= A[1,:]) and any(A[0,:] < A[1,:])"
      ]
    },
    {
      "cell_type": "markdown",
      "metadata": {},
      "source": [
        "Once we have removed that strategy the game reduces to:\n",
        "\n",
        "$$\n",
        "A =\n",
        "\\begin{pmatrix}\n",
        "    10 & 5 & 4\n",
        "\\end{pmatrix}\\qquad\n",
        "B =\n",
        "\\begin{pmatrix}\n",
        "    1 & 0 & 2\n",
        "\\end{pmatrix}\n",
        "$$\n",
        "\n",
        "and now we see that the column players' third strategy would dominate the other two.\n",
        "\n",
        "Thus a prediction of rational behaviour would be the strategy profile: $(r_2, c_3)$.\n",
        "\n",
        "Not all games allow for prediction of rational behaviour through rationalisation **and** for some games the prediction will change depending on the order of the elimination."
      ]
    }
  ],
  "metadata": {
    "kernelspec": {
      "display_name": "Python 3",
      "language": "python",
      "name": "python3"
    },
    "language_info": {
      "codemirror_mode": {
        "name": "ipython",
        "version": 3
      },
      "file_extension": ".py",
      "mimetype": "text/x-python",
      "name": "python",
      "nbconvert_exporter": "python",
      "pygments_lexer": "ipython3",
      "version": "3.10.6"
    },
    "vscode": {
      "interpreter": {
        "hash": "2ae7915851d74fe7399be5c49df080b19a7eb83a7316f9cd1f14531a53bd1ff3"
      }
    }
  },
  "nbformat": 4,
  "nbformat_minor": 2
}
